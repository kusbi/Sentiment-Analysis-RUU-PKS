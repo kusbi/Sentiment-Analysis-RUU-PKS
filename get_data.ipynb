{
 "cells": [
  {
   "cell_type": "markdown",
   "metadata": {},
   "source": [
    "GET DATA TWITTER"
   ]
  },
  {
   "cell_type": "code",
   "execution_count": 5,
   "metadata": {},
   "outputs": [],
   "source": [
    "import tweepy \n",
    "from tweepy import OAuthHandler \n",
    "import pandas as pd \n",
    "\n",
    "\n",
    "consumer_key = \"RMJlpNGsGxLLHz42ex5evdMaS\"\n",
    "consumer_secret = \"cg57ioFuRZ04YWS9pjFucNCAUDoh36xCJiTbsf2TwyJRUJKWWG\"\n",
    "access_token = \"1271042922-MUtNq5X0Hd8MeV1QqEQ8tKj2bgJM4c6eneGyU1X\"\n",
    "access_token_secret = \"QIJXA3oCJf5fMeFYRgiOnegLA8UvzP1v17PvdKv1FE9vk\"\n",
    "\n",
    "auth = tweepy.OAuthHandler(consumer_key, consumer_secret)\n",
    "auth.set_access_token(access_token, access_token_secret)\n",
    "api = tweepy.API(auth)\n",
    "\n",
    "topic = \"ruu+pks\"\n",
    "since = '2020-11-25'\n",
    "until = '2020-11-28'\n",
    "new_topic = topic + ' -filter:retweets'\n",
    "\n",
    "tweets = tweepy.Cursor(api.search,q=new_topic,since=since,until=until,lang='id',tweet_mode='extended').items(1000)\n",
    "\n",
    "tweetid = []\n",
    "userid = []\n",
    "name = []\n",
    "screenname = []\n",
    "description = []\n",
    "location = []\n",
    "accreated = []\n",
    "follower = []\n",
    "friend = []\n",
    "verified = []\n",
    "createddate = []\n",
    "tweet = []\n",
    "\n",
    "for items in tweets:\n",
    "  \n",
    "    tweetid.append(items.id)\n",
    "    userid.append(int(items.user.id))\n",
    "    name.append(items.user.name)\n",
    "    screenname.append(items.user.screen_name)\n",
    "    description.append(items.user.description)\n",
    "    location.append(items.user.location)\n",
    "    accreated.append(items.user.created_at)\n",
    "    follower.append(items.user.followers_count)\n",
    "    friend.append(items.user.friends_count)\n",
    "    verified.append(items.user.verified)\n",
    "    createddate.append(items.created_at)\n",
    "    tweet.append(items.full_text)\n",
    "\n",
    "df = pd.DataFrame(columns=['tweetid'])\n",
    "df['tweetid'] = tweetid\n",
    "df['userid'] = userid\n",
    "df['name'] = name\n",
    "df['screenname'] = screenname\n",
    "df['description'] = description\n",
    "df['location'] = location\n",
    "df['accreated'] = accreated\n",
    "df['follower'] = follower\n",
    "df['friend'] = friend\n",
    "df['verified'] = verified\n",
    "df['createddate'] = createddate\n",
    "df['tweet'] = tweet\n",
    "\n",
    "df.to_csv('dataset_ruu_pks_25-27_Nov_20.csv')\n"
   ]
  },
  {
   "cell_type": "markdown",
   "metadata": {},
   "source": [
    "TEXT PREPROCESSING"
   ]
  },
  {
   "cell_type": "code",
   "execution_count": 2,
   "metadata": {},
   "outputs": [],
   "source": [
    "import pandas as pd \n",
    "\n",
    "df = pd.read_csv('dataset_ruu_pks_25-27_Nov_20.csv')\n",
    "tweets = df['tweet']"
   ]
  },
  {
   "cell_type": "code",
   "execution_count": 3,
   "metadata": {},
   "outputs": [],
   "source": [
    "import re, string\n",
    "from nltk.corpus import stopwords\n",
    "from nltk.tokenize import sent_tokenize, word_tokenize\n",
    "from Sastrawi.Stemmer.StemmerFactory import StemmerFactory \n",
    "\n",
    "clean_tweets = []\n",
    "\n",
    "for item in tweets:\n",
    "    #lower_case\n",
    "    tweet = item.lower()\n",
    "    #delete number\n",
    "    tweet = re.sub(r\"\\d+\", \"\", tweet)\n",
    "    #delete punctuation\n",
    "    tweet = tweet.translate(str.maketrans(\"\",\"\",string.punctuation))\n",
    "    #delete whitespeace\n",
    "    tweet = tweet.strip()\n",
    "    \n",
    "    #STOPWORDS\n",
    "    stop_words = set(stopwords.words('indonesian'))\n",
    "    word_tokens = word_tokenize(tweet)\n",
    "    tweet = ' '.join([w for w in word_tokens if not w in stop_words])\n",
    "    \n",
    "    #stemming\n",
    "    factory = StemmerFactory()\n",
    "    stemmer = factory.create_stemmer()\n",
    "    tweet = stemmer.stem(tweet)\n",
    "    \n",
    "    clean_tweets.append(tweet)\n",
    "    \n",
    "df = pd.DataFrame(columns=['clean_tweets'])\n",
    "df['clean_tweets'] = clean_tweets\n",
    "df.to_csv('clean_tweets_ruu_no_stem.csv')"
   ]
  },
  {
   "cell_type": "code",
   "execution_count": 2,
   "metadata": {},
   "outputs": [],
   "source": [
    "import pandas as pd \n",
    "import re, string\n",
    "from nltk.corpus import stopwords\n",
    "from nltk.tokenize import sent_tokenize, word_tokenize\n",
    "from Sastrawi.Stemmer.StemmerFactory import StemmerFactory \n",
    "\n",
    "df = pd.read_csv('dataset_ruu_pks_25-27_Nov_20.csv')\n",
    "tweets = df['tweet']\n",
    "\n",
    "clean_tweets = []\n",
    "\n",
    "for item in tweets:\n",
    "    #lower_case\n",
    "    tweet = item.lower()\n",
    "    #delete number\n",
    "    tweet = re.sub(r\"\\d+\", \"\", tweet)\n",
    "    #delete punctuation\n",
    "    tweet = tweet.translate(str.maketrans(\"\",\"\",string.punctuation))\n",
    "    #delete whitespeace\n",
    "    tweet = tweet.strip()\n",
    "    \n",
    "    #STOPWORDS\n",
    "    stop_words = set(stopwords.words('indonesian'))\n",
    "    word_tokens = word_tokenize(tweet)\n",
    "    tweet = ' '.join([w for w in word_tokens if not w in stop_words])\n",
    "    \n",
    "    clean_tweets.append(tweet)\n",
    "    \n",
    "df = pd.DataFrame(columns=['clean_tweets'])\n",
    "df['clean_tweets'] = clean_tweets\n",
    "df.to_csv('clean_tweets_ruu_no_stem.csv')"
   ]
  },
  {
   "cell_type": "code",
   "execution_count": 2,
   "metadata": {},
   "outputs": [
    {
     "name": "stdout",
     "output_type": "stream",
     "text": [
      "Status(_api=<tweepy.api.API object at 0x000001B89BE35D90>, _json={'created_at': 'Fri Nov 27 23:54:08 +0000 2020', 'id': 1332472807226150914, 'id_str': '1332472807226150914', 'full_text': 'Gue mah fokus pada kesimpulannya, ini menolak atau mendukung RUU PKS? Kalo menolak okay skip. Soal cara penulisan bukan ranah gue, biar yang expert aja yang menilai https://t.co/fNx5oo5BLQ', 'truncated': False, 'display_text_range': [0, 164], 'entities': {'hashtags': [], 'symbols': [], 'user_mentions': [], 'urls': [{'url': 'https://t.co/fNx5oo5BLQ', 'expanded_url': 'https://twitter.com/dikaagustianna/status/1332031264317005826', 'display_url': 'twitter.com/dikaagustianna…', 'indices': [165, 188]}]}, 'metadata': {'iso_language_code': 'in', 'result_type': 'recent'}, 'source': '<a href=\"http://twitter.com/download/android\" rel=\"nofollow\">Twitter for Android</a>', 'in_reply_to_status_id': None, 'in_reply_to_status_id_str': None, 'in_reply_to_user_id': None, 'in_reply_to_user_id_str': None, 'in_reply_to_screen_name': None, 'user': {'id': 232133049, 'id_str': '232133049', 'name': 'JASA TUGAS HUKUM', 'screen_name': 'himalayaaa__', 'location': 'Indonesia', 'description': 'Law ⚖️ | Jasa Tugas dan Pembuatan Judul Skripsi Hukum  📚 | DM for request ✉️| Part of @sexviolence_ ✊', 'url': 'https://t.co/G6rTFUSOeB', 'entities': {'url': {'urls': [{'url': 'https://t.co/G6rTFUSOeB', 'expanded_url': 'https://secreto.site/id/12186944', 'display_url': 'secreto.site/id/12186944', 'indices': [0, 23]}]}, 'description': {'urls': []}}, 'protected': False, 'followers_count': 3992, 'friends_count': 3156, 'listed_count': 6, 'created_at': 'Thu Dec 30 09:43:32 +0000 2010', 'favourites_count': 3530, 'utc_offset': None, 'time_zone': None, 'geo_enabled': True, 'verified': False, 'statuses_count': 112857, 'lang': None, 'contributors_enabled': False, 'is_translator': False, 'is_translation_enabled': False, 'profile_background_color': '131516', 'profile_background_image_url': 'http://abs.twimg.com/images/themes/theme14/bg.gif', 'profile_background_image_url_https': 'https://abs.twimg.com/images/themes/theme14/bg.gif', 'profile_background_tile': True, 'profile_image_url': 'http://pbs.twimg.com/profile_images/1331646636305465344/LEKP8eFq_normal.jpg', 'profile_image_url_https': 'https://pbs.twimg.com/profile_images/1331646636305465344/LEKP8eFq_normal.jpg', 'profile_banner_url': 'https://pbs.twimg.com/profile_banners/232133049/1580229016', 'profile_link_color': '009999', 'profile_sidebar_border_color': '000000', 'profile_sidebar_fill_color': 'EFEFEF', 'profile_text_color': '333333', 'profile_use_background_image': True, 'has_extended_profile': False, 'default_profile': False, 'default_profile_image': False, 'following': False, 'follow_request_sent': False, 'notifications': False, 'translator_type': 'none'}, 'geo': None, 'coordinates': None, 'place': None, 'contributors': None, 'is_quote_status': True, 'quoted_status_id': 1332031264317005826, 'quoted_status_id_str': '1332031264317005826', 'quoted_status': {'created_at': 'Thu Nov 26 18:39:36 +0000 2020', 'id': 1332031264317005826, 'id_str': '1332031264317005826', 'full_text': 'blog goblog goblog goblog goblog goblog goblog goblog goblog goblog goblog goblog goblog goblog goblog goblog goblog goblog goblog goblog goblog goblog @BEM_Unila https://t.co/YiGMLqCqFm', 'truncated': False, 'display_text_range': [0, 162], 'entities': {'hashtags': [], 'symbols': [], 'user_mentions': [{'screen_name': 'BEM_Unila', 'name': 'BEM U KBM Unila', 'id': 719560633, 'id_str': '719560633', 'indices': [152, 162]}], 'urls': [], 'media': [{'id': 1332030358330621952, 'id_str': '1332030358330621952', 'indices': [163, 186], 'media_url': 'http://pbs.twimg.com/media/EnxSjbJVQAAv-z5.png', 'media_url_https': 'https://pbs.twimg.com/media/EnxSjbJVQAAv-z5.png', 'url': 'https://t.co/YiGMLqCqFm', 'display_url': 'pic.twitter.com/YiGMLqCqFm', 'expanded_url': 'https://twitter.com/dikaagustianna/status/1332031264317005826/photo/1', 'type': 'photo', 'sizes': {'medium': {'w': 750, 'h': 476, 'resize': 'fit'}, 'small': {'w': 680, 'h': 432, 'resize': 'fit'}, 'large': {'w': 750, 'h': 476, 'resize': 'fit'}, 'thumb': {'w': 150, 'h': 150, 'resize': 'crop'}}}]}, 'extended_entities': {'media': [{'id': 1332030358330621952, 'id_str': '1332030358330621952', 'indices': [163, 186], 'media_url': 'http://pbs.twimg.com/media/EnxSjbJVQAAv-z5.png', 'media_url_https': 'https://pbs.twimg.com/media/EnxSjbJVQAAv-z5.png', 'url': 'https://t.co/YiGMLqCqFm', 'display_url': 'pic.twitter.com/YiGMLqCqFm', 'expanded_url': 'https://twitter.com/dikaagustianna/status/1332031264317005826/photo/1', 'type': 'photo', 'sizes': {'medium': {'w': 750, 'h': 476, 'resize': 'fit'}, 'small': {'w': 680, 'h': 432, 'resize': 'fit'}, 'large': {'w': 750, 'h': 476, 'resize': 'fit'}, 'thumb': {'w': 150, 'h': 150, 'resize': 'crop'}}}]}, 'metadata': {'iso_language_code': 'in', 'result_type': 'recent'}, 'source': '<a href=\"https://mobile.twitter.com\" rel=\"nofollow\">Twitter Web App</a>', 'in_reply_to_status_id': None, 'in_reply_to_status_id_str': None, 'in_reply_to_user_id': None, 'in_reply_to_user_id_str': None, 'in_reply_to_screen_name': None, 'user': {'id': 2895235867, 'id_str': '2895235867', 'name': '#MosiTidakPercaya', 'screen_name': 'dikaagustianna', 'location': '', 'description': 'Cogito Ergo Sum', 'url': None, 'entities': {'description': {'urls': []}}, 'protected': False, 'followers_count': 306, 'friends_count': 427, 'listed_count': 0, 'created_at': 'Mon Nov 10 01:52:44 +0000 2014', 'favourites_count': 1276, 'utc_offset': None, 'time_zone': None, 'geo_enabled': True, 'verified': False, 'statuses_count': 2537, 'lang': None, 'contributors_enabled': False, 'is_translator': False, 'is_translation_enabled': False, 'profile_background_color': '000000', 'profile_background_image_url': 'http://abs.twimg.com/images/themes/theme1/bg.png', 'profile_background_image_url_https': 'https://abs.twimg.com/images/themes/theme1/bg.png', 'profile_background_tile': False, 'profile_image_url': 'http://pbs.twimg.com/profile_images/1261368543569825792/kXh3IMoC_normal.jpg', 'profile_image_url_https': 'https://pbs.twimg.com/profile_images/1261368543569825792/kXh3IMoC_normal.jpg', 'profile_banner_url': 'https://pbs.twimg.com/profile_banners/2895235867/1589566447', 'profile_link_color': 'DD2E44', 'profile_sidebar_border_color': '000000', 'profile_sidebar_fill_color': '000000', 'profile_text_color': '000000', 'profile_use_background_image': False, 'has_extended_profile': False, 'default_profile': False, 'default_profile_image': False, 'following': False, 'follow_request_sent': False, 'notifications': False, 'translator_type': 'none'}, 'geo': None, 'coordinates': None, 'place': None, 'contributors': None, 'is_quote_status': False, 'retweet_count': 2228, 'favorite_count': 8523, 'favorited': False, 'retweeted': False, 'possibly_sensitive': False, 'lang': 'cy'}, 'retweet_count': 0, 'favorite_count': 0, 'favorited': False, 'retweeted': False, 'possibly_sensitive': False, 'lang': 'in'}, created_at=datetime.datetime(2020, 11, 27, 23, 54, 8), id=1332472807226150914, id_str='1332472807226150914', full_text='Gue mah fokus pada kesimpulannya, ini menolak atau mendukung RUU PKS? Kalo menolak okay skip. Soal cara penulisan bukan ranah gue, biar yang expert aja yang menilai https://t.co/fNx5oo5BLQ', truncated=False, display_text_range=[0, 164], entities={'hashtags': [], 'symbols': [], 'user_mentions': [], 'urls': [{'url': 'https://t.co/fNx5oo5BLQ', 'expanded_url': 'https://twitter.com/dikaagustianna/status/1332031264317005826', 'display_url': 'twitter.com/dikaagustianna…', 'indices': [165, 188]}]}, metadata={'iso_language_code': 'in', 'result_type': 'recent'}, source='Twitter for Android', source_url='http://twitter.com/download/android', in_reply_to_status_id=None, in_reply_to_status_id_str=None, in_reply_to_user_id=None, in_reply_to_user_id_str=None, in_reply_to_screen_name=None, author=User(_api=<tweepy.api.API object at 0x000001B89BE35D90>, _json={'id': 232133049, 'id_str': '232133049', 'name': 'JASA TUGAS HUKUM', 'screen_name': 'himalayaaa__', 'location': 'Indonesia', 'description': 'Law ⚖️ | Jasa Tugas dan Pembuatan Judul Skripsi Hukum  📚 | DM for request ✉️| Part of @sexviolence_ ✊', 'url': 'https://t.co/G6rTFUSOeB', 'entities': {'url': {'urls': [{'url': 'https://t.co/G6rTFUSOeB', 'expanded_url': 'https://secreto.site/id/12186944', 'display_url': 'secreto.site/id/12186944', 'indices': [0, 23]}]}, 'description': {'urls': []}}, 'protected': False, 'followers_count': 3992, 'friends_count': 3156, 'listed_count': 6, 'created_at': 'Thu Dec 30 09:43:32 +0000 2010', 'favourites_count': 3530, 'utc_offset': None, 'time_zone': None, 'geo_enabled': True, 'verified': False, 'statuses_count': 112857, 'lang': None, 'contributors_enabled': False, 'is_translator': False, 'is_translation_enabled': False, 'profile_background_color': '131516', 'profile_background_image_url': 'http://abs.twimg.com/images/themes/theme14/bg.gif', 'profile_background_image_url_https': 'https://abs.twimg.com/images/themes/theme14/bg.gif', 'profile_background_tile': True, 'profile_image_url': 'http://pbs.twimg.com/profile_images/1331646636305465344/LEKP8eFq_normal.jpg', 'profile_image_url_https': 'https://pbs.twimg.com/profile_images/1331646636305465344/LEKP8eFq_normal.jpg', 'profile_banner_url': 'https://pbs.twimg.com/profile_banners/232133049/1580229016', 'profile_link_color': '009999', 'profile_sidebar_border_color': '000000', 'profile_sidebar_fill_color': 'EFEFEF', 'profile_text_color': '333333', 'profile_use_background_image': True, 'has_extended_profile': False, 'default_profile': False, 'default_profile_image': False, 'following': False, 'follow_request_sent': False, 'notifications': False, 'translator_type': 'none'}, id=232133049, id_str='232133049', name='JASA TUGAS HUKUM', screen_name='himalayaaa__', location='Indonesia', description='Law ⚖️ | Jasa Tugas dan Pembuatan Judul Skripsi Hukum  📚 | DM for request ✉️| Part of @sexviolence_ ✊', url='https://t.co/G6rTFUSOeB', entities={'url': {'urls': [{'url': 'https://t.co/G6rTFUSOeB', 'expanded_url': 'https://secreto.site/id/12186944', 'display_url': 'secreto.site/id/12186944', 'indices': [0, 23]}]}, 'description': {'urls': []}}, protected=False, followers_count=3992, friends_count=3156, listed_count=6, created_at=datetime.datetime(2010, 12, 30, 9, 43, 32), favourites_count=3530, utc_offset=None, time_zone=None, geo_enabled=True, verified=False, statuses_count=112857, lang=None, contributors_enabled=False, is_translator=False, is_translation_enabled=False, profile_background_color='131516', profile_background_image_url='http://abs.twimg.com/images/themes/theme14/bg.gif', profile_background_image_url_https='https://abs.twimg.com/images/themes/theme14/bg.gif', profile_background_tile=True, profile_image_url='http://pbs.twimg.com/profile_images/1331646636305465344/LEKP8eFq_normal.jpg', profile_image_url_https='https://pbs.twimg.com/profile_images/1331646636305465344/LEKP8eFq_normal.jpg', profile_banner_url='https://pbs.twimg.com/profile_banners/232133049/1580229016', profile_link_color='009999', profile_sidebar_border_color='000000', profile_sidebar_fill_color='EFEFEF', profile_text_color='333333', profile_use_background_image=True, has_extended_profile=False, default_profile=False, default_profile_image=False, following=False, follow_request_sent=False, notifications=False, translator_type='none'), user=User(_api=<tweepy.api.API object at 0x000001B89BE35D90>, _json={'id': 232133049, 'id_str': '232133049', 'name': 'JASA TUGAS HUKUM', 'screen_name': 'himalayaaa__', 'location': 'Indonesia', 'description': 'Law ⚖️ | Jasa Tugas dan Pembuatan Judul Skripsi Hukum  📚 | DM for request ✉️| Part of @sexviolence_ ✊', 'url': 'https://t.co/G6rTFUSOeB', 'entities': {'url': {'urls': [{'url': 'https://t.co/G6rTFUSOeB', 'expanded_url': 'https://secreto.site/id/12186944', 'display_url': 'secreto.site/id/12186944', 'indices': [0, 23]}]}, 'description': {'urls': []}}, 'protected': False, 'followers_count': 3992, 'friends_count': 3156, 'listed_count': 6, 'created_at': 'Thu Dec 30 09:43:32 +0000 2010', 'favourites_count': 3530, 'utc_offset': None, 'time_zone': None, 'geo_enabled': True, 'verified': False, 'statuses_count': 112857, 'lang': None, 'contributors_enabled': False, 'is_translator': False, 'is_translation_enabled': False, 'profile_background_color': '131516', 'profile_background_image_url': 'http://abs.twimg.com/images/themes/theme14/bg.gif', 'profile_background_image_url_https': 'https://abs.twimg.com/images/themes/theme14/bg.gif', 'profile_background_tile': True, 'profile_image_url': 'http://pbs.twimg.com/profile_images/1331646636305465344/LEKP8eFq_normal.jpg', 'profile_image_url_https': 'https://pbs.twimg.com/profile_images/1331646636305465344/LEKP8eFq_normal.jpg', 'profile_banner_url': 'https://pbs.twimg.com/profile_banners/232133049/1580229016', 'profile_link_color': '009999', 'profile_sidebar_border_color': '000000', 'profile_sidebar_fill_color': 'EFEFEF', 'profile_text_color': '333333', 'profile_use_background_image': True, 'has_extended_profile': False, 'default_profile': False, 'default_profile_image': False, 'following': False, 'follow_request_sent': False, 'notifications': False, 'translator_type': 'none'}, id=232133049, id_str='232133049', name='JASA TUGAS HUKUM', screen_name='himalayaaa__', location='Indonesia', description='Law ⚖️ | Jasa Tugas dan Pembuatan Judul Skripsi Hukum  📚 | DM for request ✉️| Part of @sexviolence_ ✊', url='https://t.co/G6rTFUSOeB', entities={'url': {'urls': [{'url': 'https://t.co/G6rTFUSOeB', 'expanded_url': 'https://secreto.site/id/12186944', 'display_url': 'secreto.site/id/12186944', 'indices': [0, 23]}]}, 'description': {'urls': []}}, protected=False, followers_count=3992, friends_count=3156, listed_count=6, created_at=datetime.datetime(2010, 12, 30, 9, 43, 32), favourites_count=3530, utc_offset=None, time_zone=None, geo_enabled=True, verified=False, statuses_count=112857, lang=None, contributors_enabled=False, is_translator=False, is_translation_enabled=False, profile_background_color='131516', profile_background_image_url='http://abs.twimg.com/images/themes/theme14/bg.gif', profile_background_image_url_https='https://abs.twimg.com/images/themes/theme14/bg.gif', profile_background_tile=True, profile_image_url='http://pbs.twimg.com/profile_images/1331646636305465344/LEKP8eFq_normal.jpg', profile_image_url_https='https://pbs.twimg.com/profile_images/1331646636305465344/LEKP8eFq_normal.jpg', profile_banner_url='https://pbs.twimg.com/profile_banners/232133049/1580229016', profile_link_color='009999', profile_sidebar_border_color='000000', profile_sidebar_fill_color='EFEFEF', profile_text_color='333333', profile_use_background_image=True, has_extended_profile=False, default_profile=False, default_profile_image=False, following=False, follow_request_sent=False, notifications=False, translator_type='none'), geo=None, coordinates=None, place=None, contributors=None, is_quote_status=True, quoted_status_id=1332031264317005826, quoted_status_id_str='1332031264317005826', quoted_status=Status(_api=<tweepy.api.API object at 0x000001B89BE35D90>, _json={'created_at': 'Thu Nov 26 18:39:36 +0000 2020', 'id': 1332031264317005826, 'id_str': '1332031264317005826', 'full_text': 'blog goblog goblog goblog goblog goblog goblog goblog goblog goblog goblog goblog goblog goblog goblog goblog goblog goblog goblog goblog goblog goblog @BEM_Unila https://t.co/YiGMLqCqFm', 'truncated': False, 'display_text_range': [0, 162], 'entities': {'hashtags': [], 'symbols': [], 'user_mentions': [{'screen_name': 'BEM_Unila', 'name': 'BEM U KBM Unila', 'id': 719560633, 'id_str': '719560633', 'indices': [152, 162]}], 'urls': [], 'media': [{'id': 1332030358330621952, 'id_str': '1332030358330621952', 'indices': [163, 186], 'media_url': 'http://pbs.twimg.com/media/EnxSjbJVQAAv-z5.png', 'media_url_https': 'https://pbs.twimg.com/media/EnxSjbJVQAAv-z5.png', 'url': 'https://t.co/YiGMLqCqFm', 'display_url': 'pic.twitter.com/YiGMLqCqFm', 'expanded_url': 'https://twitter.com/dikaagustianna/status/1332031264317005826/photo/1', 'type': 'photo', 'sizes': {'medium': {'w': 750, 'h': 476, 'resize': 'fit'}, 'small': {'w': 680, 'h': 432, 'resize': 'fit'}, 'large': {'w': 750, 'h': 476, 'resize': 'fit'}, 'thumb': {'w': 150, 'h': 150, 'resize': 'crop'}}}]}, 'extended_entities': {'media': [{'id': 1332030358330621952, 'id_str': '1332030358330621952', 'indices': [163, 186], 'media_url': 'http://pbs.twimg.com/media/EnxSjbJVQAAv-z5.png', 'media_url_https': 'https://pbs.twimg.com/media/EnxSjbJVQAAv-z5.png', 'url': 'https://t.co/YiGMLqCqFm', 'display_url': 'pic.twitter.com/YiGMLqCqFm', 'expanded_url': 'https://twitter.com/dikaagustianna/status/1332031264317005826/photo/1', 'type': 'photo', 'sizes': {'medium': {'w': 750, 'h': 476, 'resize': 'fit'}, 'small': {'w': 680, 'h': 432, 'resize': 'fit'}, 'large': {'w': 750, 'h': 476, 'resize': 'fit'}, 'thumb': {'w': 150, 'h': 150, 'resize': 'crop'}}}]}, 'metadata': {'iso_language_code': 'in', 'result_type': 'recent'}, 'source': '<a href=\"https://mobile.twitter.com\" rel=\"nofollow\">Twitter Web App</a>', 'in_reply_to_status_id': None, 'in_reply_to_status_id_str': None, 'in_reply_to_user_id': None, 'in_reply_to_user_id_str': None, 'in_reply_to_screen_name': None, 'user': {'id': 2895235867, 'id_str': '2895235867', 'name': '#MosiTidakPercaya', 'screen_name': 'dikaagustianna', 'location': '', 'description': 'Cogito Ergo Sum', 'url': None, 'entities': {'description': {'urls': []}}, 'protected': False, 'followers_count': 306, 'friends_count': 427, 'listed_count': 0, 'created_at': 'Mon Nov 10 01:52:44 +0000 2014', 'favourites_count': 1276, 'utc_offset': None, 'time_zone': None, 'geo_enabled': True, 'verified': False, 'statuses_count': 2537, 'lang': None, 'contributors_enabled': False, 'is_translator': False, 'is_translation_enabled': False, 'profile_background_color': '000000', 'profile_background_image_url': 'http://abs.twimg.com/images/themes/theme1/bg.png', 'profile_background_image_url_https': 'https://abs.twimg.com/images/themes/theme1/bg.png', 'profile_background_tile': False, 'profile_image_url': 'http://pbs.twimg.com/profile_images/1261368543569825792/kXh3IMoC_normal.jpg', 'profile_image_url_https': 'https://pbs.twimg.com/profile_images/1261368543569825792/kXh3IMoC_normal.jpg', 'profile_banner_url': 'https://pbs.twimg.com/profile_banners/2895235867/1589566447', 'profile_link_color': 'DD2E44', 'profile_sidebar_border_color': '000000', 'profile_sidebar_fill_color': '000000', 'profile_text_color': '000000', 'profile_use_background_image': False, 'has_extended_profile': False, 'default_profile': False, 'default_profile_image': False, 'following': False, 'follow_request_sent': False, 'notifications': False, 'translator_type': 'none'}, 'geo': None, 'coordinates': None, 'place': None, 'contributors': None, 'is_quote_status': False, 'retweet_count': 2228, 'favorite_count': 8523, 'favorited': False, 'retweeted': False, 'possibly_sensitive': False, 'lang': 'cy'}, created_at=datetime.datetime(2020, 11, 26, 18, 39, 36), id=1332031264317005826, id_str='1332031264317005826', full_text='blog goblog goblog goblog goblog goblog goblog goblog goblog goblog goblog goblog goblog goblog goblog goblog goblog goblog goblog goblog goblog goblog @BEM_Unila https://t.co/YiGMLqCqFm', truncated=False, display_text_range=[0, 162], entities={'hashtags': [], 'symbols': [], 'user_mentions': [{'screen_name': 'BEM_Unila', 'name': 'BEM U KBM Unila', 'id': 719560633, 'id_str': '719560633', 'indices': [152, 162]}], 'urls': [], 'media': [{'id': 1332030358330621952, 'id_str': '1332030358330621952', 'indices': [163, 186], 'media_url': 'http://pbs.twimg.com/media/EnxSjbJVQAAv-z5.png', 'media_url_https': 'https://pbs.twimg.com/media/EnxSjbJVQAAv-z5.png', 'url': 'https://t.co/YiGMLqCqFm', 'display_url': 'pic.twitter.com/YiGMLqCqFm', 'expanded_url': 'https://twitter.com/dikaagustianna/status/1332031264317005826/photo/1', 'type': 'photo', 'sizes': {'medium': {'w': 750, 'h': 476, 'resize': 'fit'}, 'small': {'w': 680, 'h': 432, 'resize': 'fit'}, 'large': {'w': 750, 'h': 476, 'resize': 'fit'}, 'thumb': {'w': 150, 'h': 150, 'resize': 'crop'}}}]}, extended_entities={'media': [{'id': 1332030358330621952, 'id_str': '1332030358330621952', 'indices': [163, 186], 'media_url': 'http://pbs.twimg.com/media/EnxSjbJVQAAv-z5.png', 'media_url_https': 'https://pbs.twimg.com/media/EnxSjbJVQAAv-z5.png', 'url': 'https://t.co/YiGMLqCqFm', 'display_url': 'pic.twitter.com/YiGMLqCqFm', 'expanded_url': 'https://twitter.com/dikaagustianna/status/1332031264317005826/photo/1', 'type': 'photo', 'sizes': {'medium': {'w': 750, 'h': 476, 'resize': 'fit'}, 'small': {'w': 680, 'h': 432, 'resize': 'fit'}, 'large': {'w': 750, 'h': 476, 'resize': 'fit'}, 'thumb': {'w': 150, 'h': 150, 'resize': 'crop'}}}]}, metadata={'iso_language_code': 'in', 'result_type': 'recent'}, source='Twitter Web App', source_url='https://mobile.twitter.com', in_reply_to_status_id=None, in_reply_to_status_id_str=None, in_reply_to_user_id=None, in_reply_to_user_id_str=None, in_reply_to_screen_name=None, author=User(_api=<tweepy.api.API object at 0x000001B89BE35D90>, _json={'id': 2895235867, 'id_str': '2895235867', 'name': '#MosiTidakPercaya', 'screen_name': 'dikaagustianna', 'location': '', 'description': 'Cogito Ergo Sum', 'url': None, 'entities': {'description': {'urls': []}}, 'protected': False, 'followers_count': 306, 'friends_count': 427, 'listed_count': 0, 'created_at': 'Mon Nov 10 01:52:44 +0000 2014', 'favourites_count': 1276, 'utc_offset': None, 'time_zone': None, 'geo_enabled': True, 'verified': False, 'statuses_count': 2537, 'lang': None, 'contributors_enabled': False, 'is_translator': False, 'is_translation_enabled': False, 'profile_background_color': '000000', 'profile_background_image_url': 'http://abs.twimg.com/images/themes/theme1/bg.png', 'profile_background_image_url_https': 'https://abs.twimg.com/images/themes/theme1/bg.png', 'profile_background_tile': False, 'profile_image_url': 'http://pbs.twimg.com/profile_images/1261368543569825792/kXh3IMoC_normal.jpg', 'profile_image_url_https': 'https://pbs.twimg.com/profile_images/1261368543569825792/kXh3IMoC_normal.jpg', 'profile_banner_url': 'https://pbs.twimg.com/profile_banners/2895235867/1589566447', 'profile_link_color': 'DD2E44', 'profile_sidebar_border_color': '000000', 'profile_sidebar_fill_color': '000000', 'profile_text_color': '000000', 'profile_use_background_image': False, 'has_extended_profile': False, 'default_profile': False, 'default_profile_image': False, 'following': False, 'follow_request_sent': False, 'notifications': False, 'translator_type': 'none'}, id=2895235867, id_str='2895235867', name='#MosiTidakPercaya', screen_name='dikaagustianna', location='', description='Cogito Ergo Sum', url=None, entities={'description': {'urls': []}}, protected=False, followers_count=306, friends_count=427, listed_count=0, created_at=datetime.datetime(2014, 11, 10, 1, 52, 44), favourites_count=1276, utc_offset=None, time_zone=None, geo_enabled=True, verified=False, statuses_count=2537, lang=None, contributors_enabled=False, is_translator=False, is_translation_enabled=False, profile_background_color='000000', profile_background_image_url='http://abs.twimg.com/images/themes/theme1/bg.png', profile_background_image_url_https='https://abs.twimg.com/images/themes/theme1/bg.png', profile_background_tile=False, profile_image_url='http://pbs.twimg.com/profile_images/1261368543569825792/kXh3IMoC_normal.jpg', profile_image_url_https='https://pbs.twimg.com/profile_images/1261368543569825792/kXh3IMoC_normal.jpg', profile_banner_url='https://pbs.twimg.com/profile_banners/2895235867/1589566447', profile_link_color='DD2E44', profile_sidebar_border_color='000000', profile_sidebar_fill_color='000000', profile_text_color='000000', profile_use_background_image=False, has_extended_profile=False, default_profile=False, default_profile_image=False, following=False, follow_request_sent=False, notifications=False, translator_type='none'), user=User(_api=<tweepy.api.API object at 0x000001B89BE35D90>, _json={'id': 2895235867, 'id_str': '2895235867', 'name': '#MosiTidakPercaya', 'screen_name': 'dikaagustianna', 'location': '', 'description': 'Cogito Ergo Sum', 'url': None, 'entities': {'description': {'urls': []}}, 'protected': False, 'followers_count': 306, 'friends_count': 427, 'listed_count': 0, 'created_at': 'Mon Nov 10 01:52:44 +0000 2014', 'favourites_count': 1276, 'utc_offset': None, 'time_zone': None, 'geo_enabled': True, 'verified': False, 'statuses_count': 2537, 'lang': None, 'contributors_enabled': False, 'is_translator': False, 'is_translation_enabled': False, 'profile_background_color': '000000', 'profile_background_image_url': 'http://abs.twimg.com/images/themes/theme1/bg.png', 'profile_background_image_url_https': 'https://abs.twimg.com/images/themes/theme1/bg.png', 'profile_background_tile': False, 'profile_image_url': 'http://pbs.twimg.com/profile_images/1261368543569825792/kXh3IMoC_normal.jpg', 'profile_image_url_https': 'https://pbs.twimg.com/profile_images/1261368543569825792/kXh3IMoC_normal.jpg', 'profile_banner_url': 'https://pbs.twimg.com/profile_banners/2895235867/1589566447', 'profile_link_color': 'DD2E44', 'profile_sidebar_border_color': '000000', 'profile_sidebar_fill_color': '000000', 'profile_text_color': '000000', 'profile_use_background_image': False, 'has_extended_profile': False, 'default_profile': False, 'default_profile_image': False, 'following': False, 'follow_request_sent': False, 'notifications': False, 'translator_type': 'none'}, id=2895235867, id_str='2895235867', name='#MosiTidakPercaya', screen_name='dikaagustianna', location='', description='Cogito Ergo Sum', url=None, entities={'description': {'urls': []}}, protected=False, followers_count=306, friends_count=427, listed_count=0, created_at=datetime.datetime(2014, 11, 10, 1, 52, 44), favourites_count=1276, utc_offset=None, time_zone=None, geo_enabled=True, verified=False, statuses_count=2537, lang=None, contributors_enabled=False, is_translator=False, is_translation_enabled=False, profile_background_color='000000', profile_background_image_url='http://abs.twimg.com/images/themes/theme1/bg.png', profile_background_image_url_https='https://abs.twimg.com/images/themes/theme1/bg.png', profile_background_tile=False, profile_image_url='http://pbs.twimg.com/profile_images/1261368543569825792/kXh3IMoC_normal.jpg', profile_image_url_https='https://pbs.twimg.com/profile_images/1261368543569825792/kXh3IMoC_normal.jpg', profile_banner_url='https://pbs.twimg.com/profile_banners/2895235867/1589566447', profile_link_color='DD2E44', profile_sidebar_border_color='000000', profile_sidebar_fill_color='000000', profile_text_color='000000', profile_use_background_image=False, has_extended_profile=False, default_profile=False, default_profile_image=False, following=False, follow_request_sent=False, notifications=False, translator_type='none'), geo=None, coordinates=None, place=None, contributors=None, is_quote_status=False, retweet_count=2228, favorite_count=8523, favorited=False, retweeted=False, possibly_sensitive=False, lang='cy'), retweet_count=0, favorite_count=0, favorited=False, retweeted=False, possibly_sensitive=False, lang='in')\n"
     ]
    }
   ],
   "source": [
    "import tweepy \n",
    "from tweepy import OAuthHandler \n",
    "import pandas as pd \n",
    "\n",
    "\n",
    "consumer_key = \"RMJlpNGsGxLLHz42ex5evdMaS\"\n",
    "consumer_secret = \"cg57ioFuRZ04YWS9pjFucNCAUDoh36xCJiTbsf2TwyJRUJKWWG\"\n",
    "access_token = \"1271042922-MUtNq5X0Hd8MeV1QqEQ8tKj2bgJM4c6eneGyU1X\"\n",
    "access_token_secret = \"QIJXA3oCJf5fMeFYRgiOnegLA8UvzP1v17PvdKv1FE9vk\"\n",
    "\n",
    "auth = tweepy.OAuthHandler(consumer_key, consumer_secret)\n",
    "auth.set_access_token(access_token, access_token_secret)\n",
    "api = tweepy.API(auth)\n",
    "\n",
    "topic = \"ruu+pks\"\n",
    "since = '2020-11-25'\n",
    "until = '2020-11-28'\n",
    "new_topic = topic + ' -filter:retweets'\n",
    "\n",
    "tweets = tweepy.Cursor(api.search,q=new_topic,since=since,until=until,lang='id',tweet_mode='extended').items(1)\n",
    "\n",
    "for tweet in tweets:\n",
    "    print(tweet)"
   ]
  },
  {
   "cell_type": "code",
   "execution_count": null,
   "metadata": {},
   "outputs": [],
   "source": []
  }
 ],
 "metadata": {
  "kernelspec": {
   "display_name": "Python 3",
   "language": "python",
   "name": "python3"
  },
  "language_info": {
   "codemirror_mode": {
    "name": "ipython",
    "version": 3
   },
   "file_extension": ".py",
   "mimetype": "text/x-python",
   "name": "python",
   "nbconvert_exporter": "python",
   "pygments_lexer": "ipython3",
   "version": "3.8.3"
  }
 },
 "nbformat": 4,
 "nbformat_minor": 4
}
