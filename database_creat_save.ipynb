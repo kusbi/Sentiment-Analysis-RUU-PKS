{
 "cells": [
  {
   "cell_type": "code",
   "execution_count": null,
   "metadata": {},
   "outputs": [],
   "source": [
    "import sqlite3\n",
    "\n",
    "connection = sqlite3.connect(\"ruu_pks.db\")\n",
    "\n",
    "create_data_table = '''CREATE TABLE IF NOT EXISTS data(\n",
    "                            tweetid INTEGER PRIMARY KEY NOT NULL,\n",
    "                            userid INTEGER,\n",
    "                            name TEXT,\n",
    "                            screenname TEXT,\n",
    "                            location TEXT,\n",
    "                            accreated DATE,\n",
    "                            follower INTEGER,\n",
    "                            friend INTEGER,\n",
    "                            verified BOOLEAN,\n",
    "                            createddata DATE,\n",
    "                            tweet TEXT);''' \n",
    "\n",
    "cursor = connection.cursor()\n",
    "cursor.execute(create_data_table)\n",
    "connection.commit()\n",
    "cursor.close()\n",
    "connection.close()"
   ]
  },
  {
   "cell_type": "code",
   "execution_count": null,
   "metadata": {},
   "outputs": [],
   "source": [
    "import sqlite3, csv\n",
    "\n",
    "connection = sqlite3.connect('ruu_pks.db')\n",
    "\n",
    "with open('dataset_tweet_ruu_pks.csv',newline='', encoding=\"cp437\", errors='ignore') as csv_file:\n",
    "    csvfile = csv.reader(csv_file, delimiter=',')\n",
    "    all_value = []\n",
    "    for row in csvfile:\n",
    "        value = (row[1],row[2],row[3],row[4],row[5],row[6],row[7],row[8],row[9],row[10],row[11])\n",
    "        all_value.append(value)\n",
    "\n",
    "sql = \"insert into data (tweetid,userid,name,screenname,location,accreated,follower,friend,verified,createddata,tweet) VALUES (?,?,?,?,?,?,?,?,?,?,?)\"\n",
    "\n",
    "cursor = connection.cursor()\n",
    "cursor.executemany(sql, all_value)\n",
    "connection.commit()"
   ]
  }
 ],
 "metadata": {
  "kernelspec": {
   "display_name": "Python 3",
   "language": "python",
   "name": "python3"
  },
  "language_info": {
   "codemirror_mode": {
    "name": "ipython",
    "version": 3
   },
   "file_extension": ".py",
   "mimetype": "text/x-python",
   "name": "python",
   "nbconvert_exporter": "python",
   "pygments_lexer": "ipython3",
   "version": "3.8.3"
  }
 },
 "nbformat": 4,
 "nbformat_minor": 4
}
